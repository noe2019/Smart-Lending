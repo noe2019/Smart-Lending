{
 "cells": [
  {
   "cell_type": "markdown",
   "id": "cf1174fc-a01e-4013-9a80-2122f6344180",
   "metadata": {},
   "source": [
    "## Load the data"
   ]
  },
  {
   "cell_type": "code",
   "execution_count": 1,
   "id": "df8e2e00-dea1-441a-99c0-096645258866",
   "metadata": {},
   "outputs": [
    {
     "data": {
      "text/html": [
       "<div>\n",
       "<style scoped>\n",
       "    .dataframe tbody tr th:only-of-type {\n",
       "        vertical-align: middle;\n",
       "    }\n",
       "\n",
       "    .dataframe tbody tr th {\n",
       "        vertical-align: top;\n",
       "    }\n",
       "\n",
       "    .dataframe thead th {\n",
       "        text-align: right;\n",
       "    }\n",
       "</style>\n",
       "<table border=\"1\" class=\"dataframe\">\n",
       "  <thead>\n",
       "    <tr style=\"text-align: right;\">\n",
       "      <th></th>\n",
       "      <th>id</th>\n",
       "      <th>address_state</th>\n",
       "      <th>application_type</th>\n",
       "      <th>emp_length</th>\n",
       "      <th>emp_title</th>\n",
       "      <th>grade</th>\n",
       "      <th>home_ownership</th>\n",
       "      <th>issue_date</th>\n",
       "      <th>last_credit_pull_date</th>\n",
       "      <th>last_payment_date</th>\n",
       "      <th>...</th>\n",
       "      <th>sub_grade</th>\n",
       "      <th>term</th>\n",
       "      <th>verification_status</th>\n",
       "      <th>annual_income</th>\n",
       "      <th>dti</th>\n",
       "      <th>installment</th>\n",
       "      <th>int_rate</th>\n",
       "      <th>loan_amount</th>\n",
       "      <th>total_acc</th>\n",
       "      <th>total_payment</th>\n",
       "    </tr>\n",
       "  </thead>\n",
       "  <tbody>\n",
       "    <tr>\n",
       "      <th>0</th>\n",
       "      <td>1077430</td>\n",
       "      <td>GA</td>\n",
       "      <td>INDIVIDUAL</td>\n",
       "      <td>&lt; 1 year</td>\n",
       "      <td>Ryder</td>\n",
       "      <td>C</td>\n",
       "      <td>RENT</td>\n",
       "      <td>11-02-2021</td>\n",
       "      <td>13-09-2021</td>\n",
       "      <td>13-04-2021</td>\n",
       "      <td>...</td>\n",
       "      <td>C4</td>\n",
       "      <td>60 months</td>\n",
       "      <td>Source Verified</td>\n",
       "      <td>30000.0</td>\n",
       "      <td>0.0100</td>\n",
       "      <td>59.83</td>\n",
       "      <td>0.1527</td>\n",
       "      <td>2500</td>\n",
       "      <td>4</td>\n",
       "      <td>1009</td>\n",
       "    </tr>\n",
       "    <tr>\n",
       "      <th>1</th>\n",
       "      <td>1072053</td>\n",
       "      <td>CA</td>\n",
       "      <td>INDIVIDUAL</td>\n",
       "      <td>9 years</td>\n",
       "      <td>MKC Accounting</td>\n",
       "      <td>E</td>\n",
       "      <td>RENT</td>\n",
       "      <td>01-01-2021</td>\n",
       "      <td>14-12-2021</td>\n",
       "      <td>15-01-2021</td>\n",
       "      <td>...</td>\n",
       "      <td>E1</td>\n",
       "      <td>36 months</td>\n",
       "      <td>Source Verified</td>\n",
       "      <td>48000.0</td>\n",
       "      <td>0.0535</td>\n",
       "      <td>109.43</td>\n",
       "      <td>0.1864</td>\n",
       "      <td>3000</td>\n",
       "      <td>4</td>\n",
       "      <td>3939</td>\n",
       "    </tr>\n",
       "    <tr>\n",
       "      <th>2</th>\n",
       "      <td>1069243</td>\n",
       "      <td>CA</td>\n",
       "      <td>INDIVIDUAL</td>\n",
       "      <td>4 years</td>\n",
       "      <td>Chemat Technology Inc</td>\n",
       "      <td>C</td>\n",
       "      <td>RENT</td>\n",
       "      <td>05-01-2021</td>\n",
       "      <td>12-12-2021</td>\n",
       "      <td>09-01-2021</td>\n",
       "      <td>...</td>\n",
       "      <td>C5</td>\n",
       "      <td>36 months</td>\n",
       "      <td>Not Verified</td>\n",
       "      <td>50000.0</td>\n",
       "      <td>0.2088</td>\n",
       "      <td>421.65</td>\n",
       "      <td>0.1596</td>\n",
       "      <td>12000</td>\n",
       "      <td>11</td>\n",
       "      <td>3522</td>\n",
       "    </tr>\n",
       "    <tr>\n",
       "      <th>3</th>\n",
       "      <td>1041756</td>\n",
       "      <td>TX</td>\n",
       "      <td>INDIVIDUAL</td>\n",
       "      <td>&lt; 1 year</td>\n",
       "      <td>barnes distribution</td>\n",
       "      <td>B</td>\n",
       "      <td>MORTGAGE</td>\n",
       "      <td>25-02-2021</td>\n",
       "      <td>12-12-2021</td>\n",
       "      <td>12-03-2021</td>\n",
       "      <td>...</td>\n",
       "      <td>B2</td>\n",
       "      <td>60 months</td>\n",
       "      <td>Source Verified</td>\n",
       "      <td>42000.0</td>\n",
       "      <td>0.0540</td>\n",
       "      <td>97.06</td>\n",
       "      <td>0.1065</td>\n",
       "      <td>4500</td>\n",
       "      <td>9</td>\n",
       "      <td>4911</td>\n",
       "    </tr>\n",
       "    <tr>\n",
       "      <th>4</th>\n",
       "      <td>1068350</td>\n",
       "      <td>IL</td>\n",
       "      <td>INDIVIDUAL</td>\n",
       "      <td>10+ years</td>\n",
       "      <td>J&amp;J Steel Inc</td>\n",
       "      <td>A</td>\n",
       "      <td>MORTGAGE</td>\n",
       "      <td>01-01-2021</td>\n",
       "      <td>14-12-2021</td>\n",
       "      <td>15-01-2021</td>\n",
       "      <td>...</td>\n",
       "      <td>A1</td>\n",
       "      <td>36 months</td>\n",
       "      <td>Verified</td>\n",
       "      <td>83000.0</td>\n",
       "      <td>0.0231</td>\n",
       "      <td>106.53</td>\n",
       "      <td>0.0603</td>\n",
       "      <td>3500</td>\n",
       "      <td>28</td>\n",
       "      <td>3835</td>\n",
       "    </tr>\n",
       "  </tbody>\n",
       "</table>\n",
       "<p>5 rows × 24 columns</p>\n",
       "</div>"
      ],
      "text/plain": [
       "        id address_state application_type emp_length              emp_title  \\\n",
       "0  1077430            GA       INDIVIDUAL   < 1 year                  Ryder   \n",
       "1  1072053            CA       INDIVIDUAL    9 years         MKC Accounting   \n",
       "2  1069243            CA       INDIVIDUAL    4 years  Chemat Technology Inc   \n",
       "3  1041756            TX       INDIVIDUAL   < 1 year    barnes distribution   \n",
       "4  1068350            IL       INDIVIDUAL  10+ years          J&J Steel Inc   \n",
       "\n",
       "  grade home_ownership  issue_date last_credit_pull_date last_payment_date  \\\n",
       "0     C           RENT  11-02-2021            13-09-2021        13-04-2021   \n",
       "1     E           RENT  01-01-2021            14-12-2021        15-01-2021   \n",
       "2     C           RENT  05-01-2021            12-12-2021        09-01-2021   \n",
       "3     B       MORTGAGE  25-02-2021            12-12-2021        12-03-2021   \n",
       "4     A       MORTGAGE  01-01-2021            14-12-2021        15-01-2021   \n",
       "\n",
       "   ... sub_grade        term  verification_status annual_income     dti  \\\n",
       "0  ...        C4   60 months      Source Verified       30000.0  0.0100   \n",
       "1  ...        E1   36 months      Source Verified       48000.0  0.0535   \n",
       "2  ...        C5   36 months         Not Verified       50000.0  0.2088   \n",
       "3  ...        B2   60 months      Source Verified       42000.0  0.0540   \n",
       "4  ...        A1   36 months             Verified       83000.0  0.0231   \n",
       "\n",
       "  installment int_rate  loan_amount  total_acc  total_payment  \n",
       "0       59.83   0.1527         2500          4           1009  \n",
       "1      109.43   0.1864         3000          4           3939  \n",
       "2      421.65   0.1596        12000         11           3522  \n",
       "3       97.06   0.1065         4500          9           4911  \n",
       "4      106.53   0.0603         3500         28           3835  \n",
       "\n",
       "[5 rows x 24 columns]"
      ]
     },
     "execution_count": 1,
     "metadata": {},
     "output_type": "execute_result"
    }
   ],
   "source": [
    "import pandas as pd\n",
    "\n",
    "# Load the dataset\n",
    "df = pd.read_csv('../data/raw/financial_loan.csv')\n",
    "df.head()"
   ]
  },
  {
   "cell_type": "code",
   "execution_count": 2,
   "id": "64378aff-0838-4b4f-abc6-50a90dc1c02d",
   "metadata": {},
   "outputs": [
    {
     "data": {
      "text/plain": [
       "Index(['id', 'address_state', 'application_type', 'emp_length', 'emp_title',\n",
       "       'grade', 'home_ownership', 'issue_date', 'last_credit_pull_date',\n",
       "       'last_payment_date', 'loan_status', 'next_payment_date', 'member_id',\n",
       "       'purpose', 'sub_grade', 'term', 'verification_status', 'annual_income',\n",
       "       'dti', 'installment', 'int_rate', 'loan_amount', 'total_acc',\n",
       "       'total_payment'],\n",
       "      dtype='object')"
      ]
     },
     "execution_count": 2,
     "metadata": {},
     "output_type": "execute_result"
    }
   ],
   "source": [
    "df.columns"
   ]
  },
  {
   "cell_type": "markdown",
   "id": "4d4ff3f0-f6d8-41a3-b8d9-07ee5aed1c47",
   "metadata": {},
   "source": [
    "## Inspect the data"
   ]
  },
  {
   "cell_type": "code",
   "execution_count": 2,
   "id": "e37a3d12-1936-4b78-b43d-08f0527ee33b",
   "metadata": {},
   "outputs": [
    {
     "name": "stdout",
     "output_type": "stream",
     "text": [
      "<class 'pandas.core.frame.DataFrame'>\n",
      "RangeIndex: 38576 entries, 0 to 38575\n",
      "Data columns (total 24 columns):\n",
      " #   Column                 Non-Null Count  Dtype  \n",
      "---  ------                 --------------  -----  \n",
      " 0   id                     38576 non-null  int64  \n",
      " 1   address_state          38576 non-null  object \n",
      " 2   application_type       38576 non-null  object \n",
      " 3   emp_length             38576 non-null  object \n",
      " 4   emp_title              37138 non-null  object \n",
      " 5   grade                  38576 non-null  object \n",
      " 6   home_ownership         38576 non-null  object \n",
      " 7   issue_date             38576 non-null  object \n",
      " 8   last_credit_pull_date  38576 non-null  object \n",
      " 9   last_payment_date      38576 non-null  object \n",
      " 10  loan_status            38576 non-null  object \n",
      " 11  next_payment_date      38576 non-null  object \n",
      " 12  member_id              38576 non-null  int64  \n",
      " 13  purpose                38576 non-null  object \n",
      " 14  sub_grade              38576 non-null  object \n",
      " 15  term                   38576 non-null  object \n",
      " 16  verification_status    38576 non-null  object \n",
      " 17  annual_income          38576 non-null  float64\n",
      " 18  dti                    38576 non-null  float64\n",
      " 19  installment            38576 non-null  float64\n",
      " 20  int_rate               38576 non-null  float64\n",
      " 21  loan_amount            38576 non-null  int64  \n",
      " 22  total_acc              38576 non-null  int64  \n",
      " 23  total_payment          38576 non-null  int64  \n",
      "dtypes: float64(4), int64(5), object(15)\n",
      "memory usage: 7.1+ MB\n",
      "None\n",
      "                 id     member_id  annual_income           dti   installment  \\\n",
      "count  3.857600e+04  3.857600e+04   3.857600e+04  38576.000000  38576.000000   \n",
      "mean   6.810371e+05  8.476515e+05   6.964454e+04      0.133274    326.862965   \n",
      "std    2.113246e+05  2.668105e+05   6.429368e+04      0.066662    209.092000   \n",
      "min    5.473400e+04  7.069900e+04   4.000000e+03      0.000000     15.690000   \n",
      "25%    5.135170e+05  6.629788e+05   4.150000e+04      0.082100    168.450000   \n",
      "50%    6.627280e+05  8.473565e+05   6.000000e+04      0.134200    283.045000   \n",
      "75%    8.365060e+05  1.045652e+06   8.320050e+04      0.185900    434.442500   \n",
      "max    1.077501e+06  1.314167e+06   6.000000e+06      0.299900   1305.190000   \n",
      "\n",
      "           int_rate   loan_amount     total_acc  total_payment  \n",
      "count  38576.000000  38576.000000  38576.000000   38576.000000  \n",
      "mean       0.120488  11296.066855     22.132544   12263.348533  \n",
      "std        0.037164   7460.746022     11.392282    9051.104777  \n",
      "min        0.054200    500.000000      2.000000      34.000000  \n",
      "25%        0.093200   5500.000000     14.000000    5633.000000  \n",
      "50%        0.118600  10000.000000     20.000000   10042.000000  \n",
      "75%        0.145900  15000.000000     29.000000   16658.000000  \n",
      "max        0.245900  35000.000000     90.000000   58564.000000  \n"
     ]
    }
   ],
   "source": [
    "# Display basic information and summary stats to understand the data better\n",
    "print(df.info())\n",
    "print(df.describe())"
   ]
  },
  {
   "cell_type": "code",
   "execution_count": 3,
   "id": "b9de2dcc-2889-4398-9714-6b14091dea2a",
   "metadata": {},
   "outputs": [
    {
     "data": {
      "text/plain": [
       "id                          0\n",
       "address_state               0\n",
       "application_type            0\n",
       "emp_length                  0\n",
       "emp_title                1438\n",
       "grade                       0\n",
       "home_ownership              0\n",
       "issue_date                  0\n",
       "last_credit_pull_date       0\n",
       "last_payment_date           0\n",
       "loan_status                 0\n",
       "next_payment_date           0\n",
       "member_id                   0\n",
       "purpose                     0\n",
       "sub_grade                   0\n",
       "term                        0\n",
       "verification_status         0\n",
       "annual_income               0\n",
       "dti                         0\n",
       "installment                 0\n",
       "int_rate                    0\n",
       "loan_amount                 0\n",
       "total_acc                   0\n",
       "total_payment               0\n",
       "dtype: int64"
      ]
     },
     "execution_count": 3,
     "metadata": {},
     "output_type": "execute_result"
    }
   ],
   "source": [
    "## Check missing values\n",
    "df.isnull().sum()"
   ]
  },
  {
   "cell_type": "markdown",
   "id": "f28fb19f-709c-4aef-8c93-ddd48f61a176",
   "metadata": {},
   "source": [
    "Wd see here that there are 1438 unknown employment titles. I will replace them by \"Unknown\" in the dataset"
   ]
  },
  {
   "cell_type": "code",
   "execution_count": 4,
   "id": "03da2e1e-f2a1-444b-9a7e-f3a02c9e8c11",
   "metadata": {},
   "outputs": [
    {
     "name": "stdout",
     "output_type": "stream",
     "text": [
      "0 missing values after replacement.\n"
     ]
    }
   ],
   "source": [
    "# Handle missing data\n",
    "# Replace missing values in 'emp_title' with 'Unknown'\n",
    "df['emp_title'] = df['emp_title'].fillna('Unknown')\n",
    "\n",
    "# Verify the replacement\n",
    "print(df['emp_title'].isnull().sum(), \"missing values after replacement.\")"
   ]
  },
  {
   "cell_type": "code",
   "execution_count": 9,
   "id": "b532ce17-12ef-4380-90fa-64ddf9c244a6",
   "metadata": {},
   "outputs": [
    {
     "name": "stdout",
     "output_type": "stream",
     "text": [
      "Data cleaning complete and saved to financial_loan_cleaned.csv.\n"
     ]
    }
   ],
   "source": [
    "# Saving the cleaned data to a new CSV file\n",
    "df.to_csv('../data/processed/financial_loan_cleaned.csv', index=False)\n",
    "\n",
    "print(\"Data cleaning complete and saved to financial_loan_cleaned.csv.\")"
   ]
  },
  {
   "cell_type": "code",
   "execution_count": 4,
   "id": "488f120a-7249-4956-a618-e72fd67bb47b",
   "metadata": {},
   "outputs": [
    {
     "name": "stdout",
     "output_type": "stream",
     "text": [
      "<class 'pandas.core.frame.DataFrame'>\n",
      "RangeIndex: 38576 entries, 0 to 38575\n",
      "Data columns (total 24 columns):\n",
      " #   Column                 Non-Null Count  Dtype         \n",
      "---  ------                 --------------  -----         \n",
      " 0   id                     38576 non-null  int64         \n",
      " 1   address_state          38576 non-null  object        \n",
      " 2   application_type       38576 non-null  object        \n",
      " 3   emp_length             38576 non-null  object        \n",
      " 4   emp_title              37138 non-null  object        \n",
      " 5   grade                  38576 non-null  object        \n",
      " 6   home_ownership         38576 non-null  object        \n",
      " 7   issue_date             38576 non-null  datetime64[ns]\n",
      " 8   last_credit_pull_date  38576 non-null  object        \n",
      " 9   last_payment_date      38576 non-null  datetime64[ns]\n",
      " 10  loan_status            38576 non-null  object        \n",
      " 11  next_payment_date      38576 non-null  datetime64[ns]\n",
      " 12  member_id              38576 non-null  int64         \n",
      " 13  purpose                38576 non-null  object        \n",
      " 14  sub_grade              38576 non-null  object        \n",
      " 15  term                   38576 non-null  object        \n",
      " 16  verification_status    38576 non-null  object        \n",
      " 17  annual_income          38576 non-null  float64       \n",
      " 18  dti                    38576 non-null  float64       \n",
      " 19  installment            38576 non-null  float64       \n",
      " 20  int_rate               38576 non-null  float64       \n",
      " 21  loan_amount            38576 non-null  int64         \n",
      " 22  total_acc              38576 non-null  int64         \n",
      " 23  total_payment          38576 non-null  int64         \n",
      "dtypes: datetime64[ns](3), float64(4), int64(5), object(12)\n",
      "memory usage: 7.1+ MB\n",
      "None\n"
     ]
    }
   ],
   "source": [
    "# List of columns to convert to datetime\n",
    "date_columns = ['issue_date', 'last_payment_date', 'next_payment_date']\n",
    "\n",
    "# Convert each column to datetime\n",
    "for column in date_columns:\n",
    "    df[column] = pd.to_datetime(df[column], format='%d-%m-%Y')\n",
    "\n",
    "# Optionally, verify the conversion\n",
    "print(df.info())"
   ]
  },
  {
   "cell_type": "code",
   "execution_count": null,
   "id": "1a49b48f-1a40-4117-af4d-431861b667e3",
   "metadata": {},
   "outputs": [],
   "source": []
  }
 ],
 "metadata": {
  "kernelspec": {
   "display_name": "Python 3 (ipykernel)",
   "language": "python",
   "name": "python3"
  },
  "language_info": {
   "codemirror_mode": {
    "name": "ipython",
    "version": 3
   },
   "file_extension": ".py",
   "mimetype": "text/x-python",
   "name": "python",
   "nbconvert_exporter": "python",
   "pygments_lexer": "ipython3",
   "version": "3.11.7"
  }
 },
 "nbformat": 4,
 "nbformat_minor": 5
}
